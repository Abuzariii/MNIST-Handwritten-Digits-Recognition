{
  "nbformat": 4,
  "nbformat_minor": 0,
  "metadata": {
    "colab": {
      "name": "Model_Evaluation_Top_K_Accuracy.ipynb",
      "provenance": [],
      "collapsed_sections": []
    },
    "kernelspec": {
      "name": "python3",
      "display_name": "Python 3"
    },
    "language_info": {
      "name": "python"
    },
    "accelerator": "GPU",
    "gpuClass": "standard"
  },
  "cells": [
    {
      "cell_type": "code",
      "source": [
        "import tensorflow as tf\n",
        "import numpy as np\n",
        "from tensorflow.keras.datasets import mnist\n",
        "\n",
        "(x_train, y_train), (x_test, y_test)  = mnist.load_data()"
      ],
      "metadata": {
        "colab": {
          "base_uri": "https://localhost:8080/"
        },
        "id": "YqOwHhdcfVN-",
        "outputId": "fba98334-e55d-4e65-f486-89f81c457ecb"
      },
      "execution_count": 1,
      "outputs": [
        {
          "output_type": "stream",
          "name": "stdout",
          "text": [
            "Downloading data from https://storage.googleapis.com/tensorflow/tf-keras-datasets/mnist.npz\n",
            "11493376/11490434 [==============================] - 0s 0us/step\n",
            "11501568/11490434 [==============================] - 0s 0us/step\n"
          ]
        }
      ]
    },
    {
      "cell_type": "code",
      "source": [
        "img_rows = x_train[0].shape[0]\n",
        "img_cols = x_train[0].shape[1]\n",
        "\n",
        "x_train = x_train.reshape(x_train.shape[0], img_rows, img_cols, 1)\n",
        "x_test = x_test.reshape(x_test.shape[0], img_rows, img_cols, 1)\n",
        "\n",
        "input_shape = (img_rows, img_cols, 1)\n",
        "\n",
        "x_train = x_train.astype('float32')\n",
        "x_test = x_test.astype('float32')\n",
        "\n",
        "x_train /= 255.0\n",
        "x_test /= 255.0"
      ],
      "metadata": {
        "id": "eorNNMcVfduX"
      },
      "execution_count": 2,
      "outputs": []
    },
    {
      "cell_type": "code",
      "source": [
        "from tensorflow.keras.utils import to_categorical\n",
        "\n",
        "y_train = to_categorical(y_train)\n",
        "y_test = to_categorical(y_test)\n",
        "\n",
        "print (\"Number of Classes: \" + str(y_test.shape[1]))\n",
        "\n",
        "num_classes = y_test.shape[1]\n",
        "num_pixels = x_train.shape[1] * x_train.shape[2]"
      ],
      "metadata": {
        "colab": {
          "base_uri": "https://localhost:8080/"
        },
        "id": "lksK3og1fmMW",
        "outputId": "9aef48a6-3de9-49a2-e7b9-e163c0eab060"
      },
      "execution_count": 3,
      "outputs": [
        {
          "output_type": "stream",
          "name": "stdout",
          "text": [
            "Number of Classes: 10\n"
          ]
        }
      ]
    },
    {
      "cell_type": "code",
      "source": [
        "from tensorflow.keras.models import Sequential\n",
        "from tensorflow.keras.layers import Dense, Dropout, Flatten\n",
        "from tensorflow.keras.layers import Conv2D, MaxPooling2D\n",
        "from tensorflow.keras import backend as K\n",
        "from tensorflow.keras.optimizers import SGD \n",
        "\n",
        "model = Sequential()\n",
        "model.add(Conv2D(32, kernel_size=(3, 3), activation='relu', input_shape=input_shape))\n",
        "model.add(Conv2D(64, (3, 3), activation='relu'))\n",
        "model.add(MaxPooling2D(pool_size=(2, 2)))\n",
        "model.add(Flatten())\n",
        "model.add(Dense(128, activation='relu'))\n",
        "model.add(Dense(num_classes, activation='softmax'))"
      ],
      "metadata": {
        "id": "58_kwqRFfu5K"
      },
      "execution_count": 4,
      "outputs": []
    },
    {
      "cell_type": "markdown",
      "source": [
        "No we are going to use TopKCategoricalAccuracy as well while compiling our model"
      ],
      "metadata": {
        "id": "gX07Q8zSlhk0"
      }
    },
    {
      "cell_type": "code",
      "source": [
        "model.compile(loss = 'categorical_crossentropy',\n",
        "              optimizer = SGD(0.001),\n",
        "              metrics = ['accuracy', tf.keras.metrics.TopKCategoricalAccuracy(k=3)])"
      ],
      "metadata": {
        "id": "xt7TMeucf1xv"
      },
      "execution_count": 5,
      "outputs": []
    },
    {
      "cell_type": "code",
      "source": [
        "batch_size = 128\n",
        "epochs = 25\n",
        "\n",
        "history = model.fit(x_train,\n",
        "                    y_train,\n",
        "                    batch_size = batch_size,\n",
        "                    epochs = epochs,\n",
        "                    verbose = 1,\n",
        "                    validation_data = (x_test, y_test))"
      ],
      "metadata": {
        "colab": {
          "base_uri": "https://localhost:8080/"
        },
        "id": "cCE9XwLaf4QL",
        "outputId": "33022faf-7bb2-43d2-ec07-42a757ff7025"
      },
      "execution_count": 6,
      "outputs": [
        {
          "output_type": "stream",
          "name": "stdout",
          "text": [
            "Epoch 1/25\n",
            "469/469 [==============================] - 17s 9ms/step - loss: 2.2241 - accuracy: 0.3927 - top_k_categorical_accuracy: 0.6941 - val_loss: 2.1149 - val_accuracy: 0.6229 - val_top_k_categorical_accuracy: 0.8625\n",
            "Epoch 2/25\n",
            "469/469 [==============================] - 4s 9ms/step - loss: 1.7936 - accuracy: 0.6967 - top_k_categorical_accuracy: 0.9022 - val_loss: 1.2466 - val_accuracy: 0.7802 - val_top_k_categorical_accuracy: 0.9406\n",
            "Epoch 3/25\n",
            "469/469 [==============================] - 4s 9ms/step - loss: 0.8249 - accuracy: 0.8152 - top_k_categorical_accuracy: 0.9532 - val_loss: 0.5462 - val_accuracy: 0.8604 - val_top_k_categorical_accuracy: 0.9661\n",
            "Epoch 4/25\n",
            "469/469 [==============================] - 4s 9ms/step - loss: 0.4871 - accuracy: 0.8672 - top_k_categorical_accuracy: 0.9687 - val_loss: 0.4081 - val_accuracy: 0.8909 - val_top_k_categorical_accuracy: 0.9745\n",
            "Epoch 5/25\n",
            "469/469 [==============================] - 4s 9ms/step - loss: 0.3980 - accuracy: 0.8875 - top_k_categorical_accuracy: 0.9745 - val_loss: 0.3530 - val_accuracy: 0.9045 - val_top_k_categorical_accuracy: 0.9787\n",
            "Epoch 6/25\n",
            "469/469 [==============================] - 4s 9ms/step - loss: 0.3559 - accuracy: 0.8980 - top_k_categorical_accuracy: 0.9772 - val_loss: 0.3224 - val_accuracy: 0.9103 - val_top_k_categorical_accuracy: 0.9812\n",
            "Epoch 7/25\n",
            "469/469 [==============================] - 4s 9ms/step - loss: 0.3298 - accuracy: 0.9051 - top_k_categorical_accuracy: 0.9796 - val_loss: 0.3030 - val_accuracy: 0.9149 - val_top_k_categorical_accuracy: 0.9822\n",
            "Epoch 8/25\n",
            "469/469 [==============================] - 4s 9ms/step - loss: 0.3109 - accuracy: 0.9103 - top_k_categorical_accuracy: 0.9809 - val_loss: 0.2879 - val_accuracy: 0.9193 - val_top_k_categorical_accuracy: 0.9830\n",
            "Epoch 9/25\n",
            "469/469 [==============================] - 4s 9ms/step - loss: 0.2957 - accuracy: 0.9146 - top_k_categorical_accuracy: 0.9823 - val_loss: 0.2731 - val_accuracy: 0.9213 - val_top_k_categorical_accuracy: 0.9846\n",
            "Epoch 10/25\n",
            "469/469 [==============================] - 4s 9ms/step - loss: 0.2827 - accuracy: 0.9182 - top_k_categorical_accuracy: 0.9837 - val_loss: 0.2642 - val_accuracy: 0.9256 - val_top_k_categorical_accuracy: 0.9849\n",
            "Epoch 11/25\n",
            "469/469 [==============================] - 4s 9ms/step - loss: 0.2714 - accuracy: 0.9217 - top_k_categorical_accuracy: 0.9843 - val_loss: 0.2513 - val_accuracy: 0.9284 - val_top_k_categorical_accuracy: 0.9858\n",
            "Epoch 12/25\n",
            "469/469 [==============================] - 5s 10ms/step - loss: 0.2608 - accuracy: 0.9254 - top_k_categorical_accuracy: 0.9855 - val_loss: 0.2409 - val_accuracy: 0.9310 - val_top_k_categorical_accuracy: 0.9869\n",
            "Epoch 13/25\n",
            "469/469 [==============================] - 4s 9ms/step - loss: 0.2510 - accuracy: 0.9290 - top_k_categorical_accuracy: 0.9865 - val_loss: 0.2349 - val_accuracy: 0.9320 - val_top_k_categorical_accuracy: 0.9873\n",
            "Epoch 14/25\n",
            "469/469 [==============================] - 4s 9ms/step - loss: 0.2421 - accuracy: 0.9308 - top_k_categorical_accuracy: 0.9869 - val_loss: 0.2255 - val_accuracy: 0.9354 - val_top_k_categorical_accuracy: 0.9879\n",
            "Epoch 15/25\n",
            "469/469 [==============================] - 4s 10ms/step - loss: 0.2336 - accuracy: 0.9331 - top_k_categorical_accuracy: 0.9879 - val_loss: 0.2186 - val_accuracy: 0.9357 - val_top_k_categorical_accuracy: 0.9886\n",
            "Epoch 16/25\n",
            "469/469 [==============================] - 5s 10ms/step - loss: 0.2258 - accuracy: 0.9351 - top_k_categorical_accuracy: 0.9886 - val_loss: 0.2098 - val_accuracy: 0.9386 - val_top_k_categorical_accuracy: 0.9892\n",
            "Epoch 17/25\n",
            "469/469 [==============================] - 4s 9ms/step - loss: 0.2183 - accuracy: 0.9371 - top_k_categorical_accuracy: 0.9889 - val_loss: 0.2052 - val_accuracy: 0.9397 - val_top_k_categorical_accuracy: 0.9899\n",
            "Epoch 18/25\n",
            "469/469 [==============================] - 4s 9ms/step - loss: 0.2114 - accuracy: 0.9391 - top_k_categorical_accuracy: 0.9894 - val_loss: 0.1980 - val_accuracy: 0.9429 - val_top_k_categorical_accuracy: 0.9905\n",
            "Epoch 19/25\n",
            "469/469 [==============================] - 4s 9ms/step - loss: 0.2049 - accuracy: 0.9407 - top_k_categorical_accuracy: 0.9898 - val_loss: 0.1950 - val_accuracy: 0.9417 - val_top_k_categorical_accuracy: 0.9908\n",
            "Epoch 20/25\n",
            "469/469 [==============================] - 4s 9ms/step - loss: 0.1990 - accuracy: 0.9430 - top_k_categorical_accuracy: 0.9901 - val_loss: 0.1877 - val_accuracy: 0.9449 - val_top_k_categorical_accuracy: 0.9912\n",
            "Epoch 21/25\n",
            "469/469 [==============================] - 4s 9ms/step - loss: 0.1933 - accuracy: 0.9442 - top_k_categorical_accuracy: 0.9905 - val_loss: 0.1813 - val_accuracy: 0.9461 - val_top_k_categorical_accuracy: 0.9913\n",
            "Epoch 22/25\n",
            "469/469 [==============================] - 4s 9ms/step - loss: 0.1880 - accuracy: 0.9459 - top_k_categorical_accuracy: 0.9910 - val_loss: 0.1768 - val_accuracy: 0.9484 - val_top_k_categorical_accuracy: 0.9914\n",
            "Epoch 23/25\n",
            "469/469 [==============================] - 4s 9ms/step - loss: 0.1828 - accuracy: 0.9473 - top_k_categorical_accuracy: 0.9914 - val_loss: 0.1723 - val_accuracy: 0.9500 - val_top_k_categorical_accuracy: 0.9916\n",
            "Epoch 24/25\n",
            "469/469 [==============================] - 4s 9ms/step - loss: 0.1782 - accuracy: 0.9492 - top_k_categorical_accuracy: 0.9916 - val_loss: 0.1684 - val_accuracy: 0.9500 - val_top_k_categorical_accuracy: 0.9920\n",
            "Epoch 25/25\n",
            "469/469 [==============================] - 4s 9ms/step - loss: 0.1738 - accuracy: 0.9495 - top_k_categorical_accuracy: 0.9919 - val_loss: 0.1655 - val_accuracy: 0.9508 - val_top_k_categorical_accuracy: 0.9926\n"
          ]
        }
      ]
    },
    {
      "cell_type": "code",
      "source": [
        "score = model.evaluate(x_test, y_test)\n",
        "len(score)"
      ],
      "metadata": {
        "colab": {
          "base_uri": "https://localhost:8080/"
        },
        "id": "PmPM5AhhgIDm",
        "outputId": "f84d49c2-a597-45f1-c2ec-61b5d452280f"
      },
      "execution_count": 7,
      "outputs": [
        {
          "output_type": "stream",
          "name": "stdout",
          "text": [
            "313/313 [==============================] - 1s 3ms/step - loss: 0.1655 - accuracy: 0.9508 - top_k_categorical_accuracy: 0.9926\n"
          ]
        },
        {
          "output_type": "execute_result",
          "data": {
            "text/plain": [
              "3"
            ]
          },
          "metadata": {},
          "execution_count": 7
        }
      ]
    },
    {
      "cell_type": "code",
      "source": [
        "print(score)"
      ],
      "metadata": {
        "colab": {
          "base_uri": "https://localhost:8080/"
        },
        "id": "ZGunL68VgsKD",
        "outputId": "c9be5e66-6edc-426e-f1b6-e2e7120ec2c2"
      },
      "execution_count": 8,
      "outputs": [
        {
          "output_type": "stream",
          "name": "stdout",
          "text": [
            "[0.1655101627111435, 0.9508000016212463, 0.9926000237464905]\n"
          ]
        }
      ]
    },
    {
      "cell_type": "code",
      "source": [
        "top_3_accuracy = score[2]*100\n",
        "print(round(top_3_accuracy, 2))"
      ],
      "metadata": {
        "colab": {
          "base_uri": "https://localhost:8080/"
        },
        "id": "yPnzYogQgtfh",
        "outputId": "6e732294-3f11-478f-8875-974323477a40"
      },
      "execution_count": 9,
      "outputs": [
        {
          "output_type": "stream",
          "name": "stdout",
          "text": [
            "99.26\n"
          ]
        }
      ]
    },
    {
      "cell_type": "markdown",
      "source": [
        "Top n(3) accuracy over time is also available in our history, lets view."
      ],
      "metadata": {
        "id": "w_-RhkG3l4hm"
      }
    },
    {
      "cell_type": "code",
      "source": [
        "history_dict = history.history\n",
        "history_dict"
      ],
      "metadata": {
        "colab": {
          "base_uri": "https://localhost:8080/"
        },
        "id": "phnrhdDvho3v",
        "outputId": "73f6c650-c8bb-4bcf-e1eb-265543b89e87"
      },
      "execution_count": 10,
      "outputs": [
        {
          "output_type": "execute_result",
          "data": {
            "text/plain": [
              "{'accuracy': [0.3926999866962433,\n",
              "  0.6966999769210815,\n",
              "  0.8151833415031433,\n",
              "  0.8671833276748657,\n",
              "  0.8875166773796082,\n",
              "  0.8980333209037781,\n",
              "  0.9051333069801331,\n",
              "  0.9103000164031982,\n",
              "  0.9146000146865845,\n",
              "  0.918233335018158,\n",
              "  0.9217000007629395,\n",
              "  0.9254000186920166,\n",
              "  0.9289500117301941,\n",
              "  0.9307500123977661,\n",
              "  0.9330666661262512,\n",
              "  0.9351333379745483,\n",
              "  0.9370999932289124,\n",
              "  0.93913334608078,\n",
              "  0.9406999945640564,\n",
              "  0.9430000185966492,\n",
              "  0.944183349609375,\n",
              "  0.945900022983551,\n",
              "  0.9472666382789612,\n",
              "  0.9491666555404663,\n",
              "  0.9494500160217285],\n",
              " 'loss': [2.224123001098633,\n",
              "  1.793644905090332,\n",
              "  0.8248563408851624,\n",
              "  0.48705220222473145,\n",
              "  0.3980349898338318,\n",
              "  0.3559473752975464,\n",
              "  0.32982078194618225,\n",
              "  0.3109004497528076,\n",
              "  0.2956528663635254,\n",
              "  0.2826896607875824,\n",
              "  0.2714262306690216,\n",
              "  0.2607572078704834,\n",
              "  0.2510455250740051,\n",
              "  0.2420864701271057,\n",
              "  0.2335917055606842,\n",
              "  0.22579824924468994,\n",
              "  0.2182687222957611,\n",
              "  0.21137258410453796,\n",
              "  0.20489658415317535,\n",
              "  0.19895392656326294,\n",
              "  0.19333262741565704,\n",
              "  0.18796485662460327,\n",
              "  0.1827951818704605,\n",
              "  0.17818595468997955,\n",
              "  0.17381343245506287],\n",
              " 'top_k_categorical_accuracy': [0.6941166520118713,\n",
              "  0.9021833539009094,\n",
              "  0.9531999826431274,\n",
              "  0.9687166810035706,\n",
              "  0.9744833111763,\n",
              "  0.9771833419799805,\n",
              "  0.9795500040054321,\n",
              "  0.9809333086013794,\n",
              "  0.9823333621025085,\n",
              "  0.9836500287055969,\n",
              "  0.984333336353302,\n",
              "  0.9855166673660278,\n",
              "  0.986466646194458,\n",
              "  0.9868833422660828,\n",
              "  0.9878666400909424,\n",
              "  0.9885666370391846,\n",
              "  0.9888833165168762,\n",
              "  0.9894000291824341,\n",
              "  0.9898333549499512,\n",
              "  0.990066647529602,\n",
              "  0.9905166625976562,\n",
              "  0.991016685962677,\n",
              "  0.9914000034332275,\n",
              "  0.9915833473205566,\n",
              "  0.9918500185012817],\n",
              " 'val_accuracy': [0.6229000091552734,\n",
              "  0.7802000045776367,\n",
              "  0.8604000210762024,\n",
              "  0.8909000158309937,\n",
              "  0.9045000076293945,\n",
              "  0.9103000164031982,\n",
              "  0.914900004863739,\n",
              "  0.9193000197410583,\n",
              "  0.9212999939918518,\n",
              "  0.925599992275238,\n",
              "  0.9283999800682068,\n",
              "  0.9309999942779541,\n",
              "  0.9319999814033508,\n",
              "  0.9354000091552734,\n",
              "  0.935699999332428,\n",
              "  0.9386000037193298,\n",
              "  0.9397000074386597,\n",
              "  0.9429000020027161,\n",
              "  0.9416999816894531,\n",
              "  0.9448999762535095,\n",
              "  0.9460999965667725,\n",
              "  0.9484000205993652,\n",
              "  0.949999988079071,\n",
              "  0.949999988079071,\n",
              "  0.9508000016212463],\n",
              " 'val_loss': [2.1148910522460938,\n",
              "  1.2466378211975098,\n",
              "  0.5462427735328674,\n",
              "  0.40812623500823975,\n",
              "  0.3530306816101074,\n",
              "  0.3223811388015747,\n",
              "  0.30303555727005005,\n",
              "  0.2879159152507782,\n",
              "  0.2731485366821289,\n",
              "  0.26418590545654297,\n",
              "  0.2513049840927124,\n",
              "  0.24090659618377686,\n",
              "  0.23485766351222992,\n",
              "  0.22554907202720642,\n",
              "  0.21862204372882843,\n",
              "  0.20977109670639038,\n",
              "  0.20524829626083374,\n",
              "  0.19797061383724213,\n",
              "  0.19500406086444855,\n",
              "  0.1876535564661026,\n",
              "  0.18127025663852692,\n",
              "  0.17681799829006195,\n",
              "  0.17233894765377045,\n",
              "  0.16840392351150513,\n",
              "  0.16551019251346588],\n",
              " 'val_top_k_categorical_accuracy': [0.862500011920929,\n",
              "  0.9405999779701233,\n",
              "  0.9660999774932861,\n",
              "  0.9745000004768372,\n",
              "  0.9786999821662903,\n",
              "  0.9811999797821045,\n",
              "  0.982200026512146,\n",
              "  0.9829999804496765,\n",
              "  0.9846000075340271,\n",
              "  0.9848999977111816,\n",
              "  0.98580002784729,\n",
              "  0.9868999719619751,\n",
              "  0.9872999787330627,\n",
              "  0.9879000186920166,\n",
              "  0.9886000156402588,\n",
              "  0.9891999959945679,\n",
              "  0.9898999929428101,\n",
              "  0.9904999732971191,\n",
              "  0.9908000230789185,\n",
              "  0.9911999702453613,\n",
              "  0.9912999868392944,\n",
              "  0.9914000034332275,\n",
              "  0.991599977016449,\n",
              "  0.9919999837875366,\n",
              "  0.9926000237464905]}"
            ]
          },
          "metadata": {},
          "execution_count": 10
        }
      ]
    },
    {
      "cell_type": "code",
      "source": [
        "history_dict.get('val_top_k_categorical_accuracy')"
      ],
      "metadata": {
        "colab": {
          "base_uri": "https://localhost:8080/"
        },
        "id": "8WgMDe2HhylA",
        "outputId": "28c3bef2-e960-42ea-ff88-33854fd0e8a7"
      },
      "execution_count": 11,
      "outputs": [
        {
          "output_type": "execute_result",
          "data": {
            "text/plain": [
              "[0.862500011920929,\n",
              " 0.9405999779701233,\n",
              " 0.9660999774932861,\n",
              " 0.9745000004768372,\n",
              " 0.9786999821662903,\n",
              " 0.9811999797821045,\n",
              " 0.982200026512146,\n",
              " 0.9829999804496765,\n",
              " 0.9846000075340271,\n",
              " 0.9848999977111816,\n",
              " 0.98580002784729,\n",
              " 0.9868999719619751,\n",
              " 0.9872999787330627,\n",
              " 0.9879000186920166,\n",
              " 0.9886000156402588,\n",
              " 0.9891999959945679,\n",
              " 0.9898999929428101,\n",
              " 0.9904999732971191,\n",
              " 0.9908000230789185,\n",
              " 0.9911999702453613,\n",
              " 0.9912999868392944,\n",
              " 0.9914000034332275,\n",
              " 0.991599977016449,\n",
              " 0.9919999837875366,\n",
              " 0.9926000237464905]"
            ]
          },
          "metadata": {},
          "execution_count": 11
        }
      ]
    },
    {
      "cell_type": "code",
      "source": [
        "import matplotlib.pyplot as plt\n",
        "from matplotlib.pyplot import figure\n",
        "\n",
        "figure(figsize=(8, 6), dpi=80)\n",
        "plt.title('Model Top 5 Accuracy over 50 Epochs', fontsize=15)\n",
        "plt.xlabel('Epochs')\n",
        "plt.ylabel('Top 5 Accuracy')\n",
        "plt.plot(history_dict['val_top_k_categorical_accuracy'])"
      ],
      "metadata": {
        "colab": {
          "base_uri": "https://localhost:8080/",
          "height": 466
        },
        "id": "yvTZyNS7iJV_",
        "outputId": "c2d43934-3ef2-4b0d-f101-350fe599fd37"
      },
      "execution_count": 12,
      "outputs": [
        {
          "output_type": "execute_result",
          "data": {
            "text/plain": [
              "[<matplotlib.lines.Line2D at 0x7f4b620f1310>]"
            ]
          },
          "metadata": {},
          "execution_count": 12
        },
        {
          "output_type": "display_data",
          "data": {
            "text/plain": [
              "<Figure size 640x480 with 1 Axes>"
            ],
            "image/png": "[encoded data removed]"
          },
          "metadata": {
            "needs_background": "light"
          }
        }
      ]
    },
    {
      "cell_type": "code",
      "source": [
        ""
      ],
      "metadata": {
        "id": "7qQxFcq2ig1J"
      },
      "execution_count": 12,
      "outputs": []
    }
  ]
}